{
 "cells": [
  {
   "cell_type": "code",
   "execution_count": null,
   "metadata": {
    "collapsed": false
   },
   "outputs": [],
   "source": [
    "# http://www.amazon.co.jp/ビジネスマンのためのビックデータ解析：-知の集合体・最先端人工知能の活用-武藤佳恭-ebook/dp/B010S214BI"
   ]
  },
  {
   "cell_type": "code",
   "execution_count": null,
   "metadata": {
    "collapsed": false
   },
   "outputs": [],
   "source": [
    "# 全体を通して使いそうなライブラリを読み込み（一部勝手に追加したものあり）\n",
    "import numpy as np\n",
    "import scipy as sp\n",
    "import pandas as pd\n",
    "import sklearn\n",
    "from sklearn import preprocessing\n",
    "from sklearn import cross_validation\n",
    "from sklearn.grid_search import GridSearchCV\n",
    "import matplotlib.pyplot as plt\n",
    "\n",
    "from sklearn.ensemble import RandomForestClassifier\n",
    "from sklearn.ensemble import RandomForestRegressor\n",
    "from sklearn.ensemble import ExtraTreesRegressor\n",
    "from sklearn.ensemble import GradientBoostingRegressor\n",
    "from sklearn.ensemble import ExtraTreesClassifier\n",
    "\n",
    "%matplotlib inline"
   ]
  },
  {
   "cell_type": "code",
   "execution_count": null,
   "metadata": {
    "collapsed": true
   },
   "outputs": [],
   "source": [
    "# 1章：データからルールを学ぶ"
   ]
  },
  {
   "cell_type": "code",
   "execution_count": null,
   "metadata": {
    "collapsed": false
   },
   "outputs": [],
   "source": [
    "# poker\n",
    "train = pd.read_csv('../data/poker_train.csv')\n",
    "test=pd.read_csv('../data/poker_test.csv')\n",
    "\n",
    "clf=RandomForestClassifier(n_estimators=200, min_samples_split=1, n_jobs=-1)\n",
    "\n",
    "x = train[['s1','r1','s2','r2','s3','r3','s4','r4','s5','r5']]\n",
    "y = train['c']\n",
    "\n",
    "clf.fit(x,y)\n",
    "print(clf.score(x,y))\n",
    "\n",
    "x = test[['s1','r1','s2','r2','s3','r3','s4','r4','s5','r5']]\n",
    "y = test['c']\n",
    "p = clf.predict(x)\n",
    "print(clf.score(x,y))"
   ]
  },
  {
   "cell_type": "code",
   "execution_count": null,
   "metadata": {
    "collapsed": true
   },
   "outputs": [],
   "source": [
    "# 2章：scikit-learn"
   ]
  },
  {
   "cell_type": "code",
   "execution_count": null,
   "metadata": {
    "collapsed": false
   },
   "outputs": [],
   "source": [
    "# scikit-learnに実装されているアンサンブル学習の分類器\n",
    "\n",
    "#from sklearn.ensemble import AdaBoostClassifier as clf\n",
    "#from sklearn.ensemble import AdaBoostRegressor as clf\n",
    "#from sklearn.ensemble import BaggingClassifier as clf\n",
    "#from sklearn.ensemble import BaggingRegressor as clf\n",
    "#from sklearn.ensemble import ExtraTreesClassifier as clf\n",
    "#from sklearn.ensemble import ExtraTreesRegressor as clf\n",
    "#from sklearn.ensemble import GradientBoostingClassifier as clf\n",
    "#from sklearn.ensemble import GradientBoostingRegressor as clf\n",
    "#from sklearn.ensemble import RandomForestClassifier as clf\n",
    "#from sklearn.ensemble import RandomTreesEmbedding as clf\n",
    "#from sklearn.ensemble import RandomForestRegressor as clf"
   ]
  },
  {
   "cell_type": "code",
   "execution_count": null,
   "metadata": {
    "collapsed": true
   },
   "outputs": [],
   "source": [
    "# 3章：重回帰分析"
   ]
  },
  {
   "cell_type": "code",
   "execution_count": null,
   "metadata": {
    "collapsed": true
   },
   "outputs": [],
   "source": [
    "# ice\n",
    "data = pd.read_csv('../data/ice.csv')\n",
    "x = data[['temp','street']]\n",
    "y = data['ice']"
   ]
  },
  {
   "cell_type": "code",
   "execution_count": null,
   "metadata": {
    "collapsed": false
   },
   "outputs": [],
   "source": [
    "# ice - ランダムフォレスト回帰\n",
    "clf = RandomForestRegressor(n_estimators=200, min_samples_split=1, n_jobs=-1)\n",
    "clf.fit(x,y)\n",
    "print(clf.score(x,y))\n",
    "print(clf.feature_importances_)"
   ]
  },
  {
   "cell_type": "code",
   "execution_count": null,
   "metadata": {
    "collapsed": false
   },
   "outputs": [],
   "source": [
    "# ice - ランダムフォレスト分類器\n",
    "clf = RandomForestClassifier(n_estimators=200, min_samples_split=1, n_jobs=-1)\n",
    "clf.fit(x,y)\n",
    "print(clf.score(x,y))\n",
    "print(clf.feature_importances_)"
   ]
  },
  {
   "cell_type": "code",
   "execution_count": null,
   "metadata": {
    "collapsed": false
   },
   "outputs": [],
   "source": [
    "# ice - extTreeReg\n",
    "clf = ExtraTreesRegressor()\n",
    "clf.fit(x,y)\n",
    "p = clf.predict(x)\n",
    "print(clf.score(x,y))"
   ]
  },
  {
   "cell_type": "code",
   "execution_count": null,
   "metadata": {
    "collapsed": false
   },
   "outputs": [],
   "source": [
    "t = np.arange(0.0,31.0)\n",
    "plt.plot(t, data['ice'], '--', t, p, '-')\n",
    "plt.show()"
   ]
  },
  {
   "cell_type": "code",
   "execution_count": null,
   "metadata": {
    "collapsed": false
   },
   "outputs": [],
   "source": [
    "# ice - gradient boost\n",
    "clf = GradientBoostingRegressor(n_estimators=1000, learning_rate=1.2,max_depth=1, random_state=0)\n",
    "clf.fit(x,y)\n",
    "print(clf.score(x,y))\n",
    "p = clf.predict(x)\n",
    "t = np.arange(0.0,31.0)\n",
    "plt.plot(t,data['ice'],':b')\n",
    "plt.plot(t,p,'-b')\n",
    "plt.legend(('real','gradboost'))\n",
    "plt.show()"
   ]
  },
  {
   "cell_type": "code",
   "execution_count": null,
   "metadata": {
    "collapsed": true
   },
   "outputs": [],
   "source": [
    "# 4章：ビッグデータ解析"
   ]
  },
  {
   "cell_type": "code",
   "execution_count": null,
   "metadata": {
    "collapsed": true
   },
   "outputs": [],
   "source": [
    "data=pd.read_csv('../data/red.csv')\n",
    "x=data[['fixed acidity','volatile acidity','citric acid','residual sugar','chlorides','free sulfur dioxide','total sulfur dioxide','density','pH','sulphates','alcohol']]\n",
    "y=data['quality']"
   ]
  },
  {
   "cell_type": "code",
   "execution_count": null,
   "metadata": {
    "collapsed": false
   },
   "outputs": [],
   "source": [
    "clf=ExtraTreesClassifier(n_estimators=200, max_depth=None,min_samples_split=1, random_state=0)\n",
    "clf.fit(x,y)"
   ]
  },
  {
   "cell_type": "code",
   "execution_count": null,
   "metadata": {
    "collapsed": true
   },
   "outputs": [],
   "source": [
    "test=pd.read_csv('../data/red_test.csv')\n",
    "x=test[['fixed acidity','volatile acidity','citric acid','residual sugar','chlorides','free sulfur dioxide','total sulfur dioxide','density','pH','sulphates','alcohol']]\n",
    "y=test['quality']"
   ]
  },
  {
   "cell_type": "code",
   "execution_count": null,
   "metadata": {
    "collapsed": false
   },
   "outputs": [],
   "source": [
    "p=clf.predict(x)\n",
    "print(clf.score(x,y))\n",
    "print(clf.feature_importances_)\n",
    "t=np.arange(0.0,100.0)\n",
    "plt.plot(t,test['quality'],'--',t,p,'-')\n",
    "plt.show()"
   ]
  },
  {
   "cell_type": "code",
   "execution_count": null,
   "metadata": {
    "collapsed": true
   },
   "outputs": [],
   "source": [
    "# 5章：パラメータチューニング"
   ]
  },
  {
   "cell_type": "code",
   "execution_count": null,
   "metadata": {
    "collapsed": true
   },
   "outputs": [],
   "source": [
    "data=pd.read_csv('../data/poker_train.csv')\n",
    "x=data[['s1','r1','s2','r2','s3','r3','s4','r4','s5','r5']]\n",
    "y=data['c']\n",
    "clf =RandomForestClassifier(n_jobs=-1,max_features= 'sqrt' ,n_estimators=50, oob_score = True)\n",
    "\n",
    "param_grid = {\n",
    "        'n_estimators': [700,750,800],\n",
    "        'min_samples_split' : [2, 3, 5],\n",
    "        'max_depth'         : [3, 5, 10, 15, 17],\n",
    "        'max_features': ['auto', 'sqrt', 'log2']\n",
    "}\n",
    "\n",
    "CV_rfc = GridSearchCV(estimator=clf, param_grid=param_grid, cv= 5)\n",
    "CV_rfc.fit(x, y)\n",
    "print(CV_rfc.best_params_)\n",
    "test=pd.read_csv('../data/poker_test.csv')\n",
    "x=test[['s1','r1','s2','r2','s3','r3','s4','r4','s5','r5']]\n",
    "y=test['c']\n",
    "p=CV_rfc.predict(x)\n",
    "print(CV_rfc.score(x,y))"
   ]
  },
  {
   "cell_type": "code",
   "execution_count": null,
   "metadata": {
    "collapsed": true
   },
   "outputs": [],
   "source": []
  }
 ],
 "metadata": {
  "kernelspec": {
   "display_name": "Python 3",
   "language": "python",
   "name": "python3"
  },
  "language_info": {
   "codemirror_mode": {
    "name": "ipython",
    "version": 3
   },
   "file_extension": ".py",
   "mimetype": "text/x-python",
   "name": "python",
   "nbconvert_exporter": "python",
   "pygments_lexer": "ipython3",
   "version": "3.4.3"
  }
 },
 "nbformat": 4,
 "nbformat_minor": 0
}
